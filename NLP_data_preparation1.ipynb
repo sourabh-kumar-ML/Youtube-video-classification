{
 "cells": [
  {
   "cell_type": "code",
   "execution_count": 1,
   "metadata": {},
   "outputs": [],
   "source": [
    "import pandas as pd\n",
    "from sklearn.utils import shuffle\n",
    "import numpy as np\n",
    "from nltk.corpus import stopwords\n",
    "import string\n",
    "from collections import Counter\n",
    "from string import punctuation"
   ]
  },
  {
   "cell_type": "code",
   "execution_count": 2,
   "metadata": {},
   "outputs": [
    {
     "name": "stderr",
     "output_type": "stream",
     "text": [
      "[nltk_data] Downloading package stopwords to\n",
      "[nltk_data]     C:\\Users\\soura\\AppData\\Roaming\\nltk_data...\n",
      "[nltk_data]   Package stopwords is already up-to-date!\n"
     ]
    },
    {
     "data": {
      "text/plain": [
       "True"
      ]
     },
     "execution_count": 2,
     "metadata": {},
     "output_type": "execute_result"
    }
   ],
   "source": [
    "import nltk\n",
    "nltk.download('stopwords')"
   ]
  },
  {
   "cell_type": "markdown",
   "metadata": {},
   "source": [
    "# Extract top words in the data"
   ]
  },
  {
   "cell_type": "code",
   "execution_count": 8,
   "metadata": {},
   "outputs": [
    {
     "name": "stdout",
     "output_type": "stream",
     "text": [
      "['Hindi', 'Hot', 'sexy', 'Bhabhi', 'devar', 'full', 'video', 'HD', 'blue', 'film', '|', 'sex', 'xxx', '|', 'fliz', 'movie', 'Hindi', 'Hot', 'sexy', 'Bhabhi', 'devar', 'full', 'video', 'HD', 'blue', 'film', '|', 'sex', 'xxx', '|', 'fliz', 'movie', '#666', 'Hindi', 'Hot', 'sexy', 'Bhabhi', 'devar', 'full', 'video', 'HD', 'blue', 'film', '|', 'sex', 'xxx', '|', 'fliz', 'movie', 'Hindi', 'Hot', 'sexy', 'Bhabhi', 'devar', 'full', 'video', 'HD', 'blue', 'film', '|', 'sex', 'xxx', '|', 'fliz', 'movie', 'Hindi', 'Hot', 'sexy', 'Bhabhi', 'devar', 'full', 'video', 'HD', 'blue', 'film', '|', 'sex', 'xxx', '|', 'fliz', 'movie', 'Hindi', 'Hot', 'sexy', 'Bhabhi', 'devar', 'full', 'video', 'HD', 'blue', 'film', '|', 'sex', 'xxx', '|', 'fliz', 'movie', '#6666', 'Sexy', 'Blue', 'Film', 'Hot', 'And', 'Sexy', 'Video', '2020', 'Indian', 'Adult', 'Sex', 'Desi', 'Aunty', 'Sex', 'Video', 'Hindi', 'Sex', 'Video', '#12', 'Sexy', 'Blue', 'Film', 'Hot', 'And', 'Sexy', 'Video', '2020', 'Indian', 'Adult', 'Sex', 'Desi', 'Aunty', 'Sex', 'Video', 'Hindi', 'Hindi', 'Hot', 'sexy', 'Bhabhi', 'devar', 'full', 'video', 'HD', 'blue', 'film', '|', 'sex', 'xxx', '|', 'fliz', 'movie', 'Sexy', 'Blue', 'Film', 'Hot', 'And', 'Sexy', 'Video', '2020', 'Indian', 'Adult', 'Sex', 'video', 'Desi', 'Blue', 'Film', 'Hot', 'And', 'Desi', 'xxx', 'Video', '2020', 'Bhabhi', 'Devar', 'sex', 'Hot', 'indian', 'movie', '2020', 'Hindi', 'Hot', 'sexy', 'Bhabhi', 'devar', 'full', 'video', 'HD', 'blue', 'film', '|', 'sex', 'xxx', '|', 'fliz', 'movie', 'Hindi', 'Hot', 'sexy', 'Bhabhi', 'devar', 'full', 'video', 'HD', 'blue', 'film', '|', 'sex', 'xxx', '|', 'fliz', 'movie', 'Hindi', 'Hot', 'sexy', 'Bhabhi', 'devar', 'full', 'video', 'HD', 'blue', 'film', '|', 'sex', 'xxx', '|', 'fliz', 'movie', 'Hindi', 'Hot', 'sexy', 'Bhabhi', 'devar', 'full', 'video', 'HD', 'blue', 'film', '|', 'sex', 'xxx', '|', 'fliz', 'movie', 'Hindi', 'Hot', 'sexy', 'Bhabhi', 'devar', 'full', 'video', 'HD', 'blue', 'film', '|', 'sex', 'xxx', '|', 'fliz', 'movie', 'Hindi', 'Hot', 'sexy', 'Bhabhi', 'devar', 'full', 'video', 'HD', 'blue', 'film', 'sex', 'xxx', 'fliz', 'movie', '#456', 'Sexy', 'Blue', 'Film', 'Hot', 'And', 'Sexy', 'Video', '2020', 'Kavita', 'Bhabhi', 'Sex', 'Real', 'Indian', 'Sex', 'hot', 'Bhabhi', 'Desi', 'Sex', 'Gold', 'Digger', '|', 'Kamar', 'Pe', 'Kiss', '|', 'Prankstar', 'Amit', 'Part', '-2', 'Best', 'Friend', 'Nikli', 'Gold', 'Digger', 'Prank', '||Hard', 'Kissing', '||', 'Inspired', 'by', 'Emraan', 'Hasmi||', 'Akhil', 'Kim', 'Soo-hyun', 'gives', 'Seo', 'Yea-ji', 'a', 'birthday', 'kiss', '|', 'Itâ€™s', 'Okay', 'to', 'Not', 'Be', 'Okay', 'Ep', '11', '[ENG', 'SUB]', 'Top', '20', 'Teen', 'Movie', 'Kisses', 'KISSING', 'My', 'Crush', '100', 'Times', '24', 'HOUR', 'EXTREME', 'REACTION', 'Challenge', '**', 'Our', 'First', 'KISS', 'ðŸ’‹', 'WINDI', 'Soulja', 'Boy', \"Tell'em\", 'ft.', 'Sammie', '-', 'Kiss', 'Me', 'Thru', 'The', 'Phone', '(Official', 'Video)', 'TOP', 'ROMANTIC', 'COUPLE', 'MOMENTS', 'of', 'the', 'My', 'Dream', 'Quinceanera', 'Universe!', '(kiss', 'alert!)', '\"Dahvie', 'Asked', 'To', '\"\"Join', 'The', 'Kiss\"\"', '-', 'Ashlee', 'Lillie', 'Talks', 'Dahvie', 'Vanity\"', 'Every', 'Kiss', 'In', 'The', 'Kissing', 'Booth', 'Movies', '|', 'Netflix', 'Flower', 'of', 'Evil', '-', 'EP1', '|', 'Romantic', 'Morning', 'Kiss', '|', 'Korean', 'Drama', 'Kiss', '-', 'I', 'Was', 'Made', 'For', \"Lovin'\", 'You', 'Kiss', 'Day', 'Special', '||', 'Unlimited', 'Kiss', '||', 'Full', 'Kiss', 'Scenes', '\"The', 'most', 'passionate', 'and', 'crazy', 'kiss,', 'like', 'a', 'fight', 'â–¶', 'My', 'Girl', 'EP', '18', 'clip\"', 'TodoBakuDeku', 'Kiss', '-', 'Tododeku', 'x', 'Bakudeku', '|', 'My', 'Homo', 'Academia', '(YAOI)', 'Son', 'Ho-jun', 'confesses', 'again', 'and', 'moves', 'in', 'for', 'a', 'kiss?', '|', 'Was', 'It', 'Love?', 'Ep', '8', '[ENG', 'SUB]', 'Holli', 'and', 'Curtis', 'have', 'an', 'athletic', 'kiss', 'Kissing', 'Best', 'Friend', 'Challenge', 'Gone', 'Wrong', '-', 'Today', 'I', 'tried', 'to', 'kiss', 'my', 'best', 'friend', 'TikTok', 'Videos', '2020', 'DDG', 'and', 'Rubi', 'Rose', 'Kiss', 'and', 'Feed', 'Each', 'Other', 'Food', 'as', 'They', 'Have', 'a', 'Romantic', 'Dinner', 'in', 'West', 'Hollywood.', '50', 'TYPES', 'OF', 'KISSES!', 'Kissing', 'Prank', '-', 'Kissing', 'Target', 'Employees', 'At', 'Work', '-', 'Prank', 'Invasion', '2016', 'Matthew', 'McKnight', 'sentenced', 'to', 'eight', 'years', 'in', 'prison', 'for', 'five', 'sex', 'assaults', 'Did', 'you', 'ever', 'experience', 'sex', 'trafficking?', '|', 'One', 'Word', '|', 'Cut', 'Why', 'Sex', 'With', 'The', 'LIGHTS', 'ON', 'Is', 'Better', '|', 'Mashable', 'Explains', 'Sex', 'with', 'needles', 'ðŸ§”ðŸ»ðŸ“ŒðŸ‘©ðŸ»â€ðŸ¦³', '|', 'Caso', 'Cerrado', '|', 'Telemundo', 'English', 'STALKER', 'SEX!', '|', 'Jerry', 'Springer', 'Sex', 'Robot', 'hands-on', 'at', 'CES', '2018', 'Your', 'Body', 'During', 'Sex', 'Rose', 'Accuses', 'Big', 'Ed', 'Of', 'Offering', 'To', 'Pay', 'For', 'Video', 'Sex', 'With', 'Her', '|', '90', 'Day', 'FiancÃ©:', 'Before', 'The', '90', 'Days', 'When', 'You', 'Have', 'Sex', 'For', 'The', 'First', 'Time', '|', 'Otis', 'And', 'Lily', '|', 'Sex', 'Education', '|', 'Netflix', 'India', 'Animal', 'Sex', 'Intruders', '|', 'Sex', 'Sent', 'Me', 'To', 'The', 'ER', 'Sexy', 'Truth', 'or', 'Sexy', 'Dare', '-', 'Sex', 'House', '-', 'Ep.', '2', '#MeToo', 'Is', 'Changing', 'How', 'Sex', 'Is', 'Simulated', 'on', 'Set', 'Omarion', '-', 'Sex', 'Playlist', 'Pt.', '4', 'Your', 'Body', 'During', 'Sex', 'Realistic', 'Hollywood', 'Sex-Scene', 'Sex', '|', 'Public', 'Morals', '|', 'TNT', 'Sex', 'In', 'A', 'Haunted', 'House', 'Stuck', '|', 'A', 'Sex', 'and', 'Relationships', 'Short', 'Film', '|', 'Short', 'of', 'the', 'Week', '7', 'Days', 'of', 'Sex:', \"Roland's\", 'Surprise', '|', 'Lifetime', 'Neto', 'PeÃ±a', '-', 'Sex', 'No', 'Love', '(Video', 'Oficial)', 'Someone', 'stole', 'naked', 'pictures', 'of', 'me.', 'This', 'is', 'what', 'I', 'did', 'about', 'it', '-', 'Emma', 'Holten', '|', 'Comment', 'is', 'Free', 'Radiohead', '-', 'Nude', 'How', 'to', 'Improve', 'Your', 'Nude', 'Pics', '-', 'Molly', 'Austin', '-', 'Stand-Up', 'Featuring', 'A', 'Yoga', 'Flow', 'with', \"Instagram's\", 'Nude', 'Yoga', 'Girl', '|', \"Harper's\", 'BAZAAR', 'Jennifer', 'Lawrence', 'on', 'Her', \"'Liberating'\", 'Nude', 'Scene', '15', 'Most', 'Shocking', 'Nude', 'Photo', 'Scandals', 'Ever', 'Justin', 'Bieber', 'on', 'HisÂ', 'Nude', 'Paparazzi', 'Photo', 'How', 'the', 'first', 'nude', 'movies', 'were', 'made', 'Emilia', 'Clarke', 'Watched', 'Game', 'Of', 'Thrones', 'Nude', 'Scene', 'With', 'Her', 'Parents', '-', 'The', 'Graham', 'Norton', 'Show', 'Hacker', 'Takes', 'Nude', 'Photos', 'Of', 'Miss', 'Teen', 'USA', '|', 'NBC', 'Nightly', 'News', 'Conan', '&', 'Flula', 'Borg', 'Visit', 'A', 'Nude', 'Beach', '-', 'CONAN', 'on', 'TBS', 'Jordan', 'Schlansky', 'Poses', 'As', 'A', 'Nude', 'Model', '-', 'CONAN', 'on', 'TBS', 'Doja', 'Cat', 'Paints', 'a', 'Nude', 'Model', 'for', 'Cosmo!', 'ðŸ˜…|', 'Fine', 'Art', '|', 'Cosmopolitan', 'Nude', 'Trailer', '|', 'Ravi', 'Jadhav', '|', 'Zee', 'Studios', '|', 'Marathi', 'Movie', 'Trailer', '\"Radical', 'Beauty:', 'Inside', 'a', 'Naked', 'Yoga', 'Class,', 'Baring', 'Is', 'Caring\"', 'How', 'to', 'Shoot', 'Nude', 'Portraits', 'The', 'Try', 'Guys', 'Try', 'Nude', 'Modeling', 'The', 'Best', 'Reason', 'Not', 'To', 'Share', 'Nude', 'Photos', 'How', 'To', 'Leak', 'Nude', 'Photos', 'Kim', 'Kardashian', 'Nude', 'Selfie', '|', 'Amber', 'Rose', 'Defends', \"Kanye's\", 'Wife', 'Hindi', 'Hot', 'sexy', 'Bhabhi', 'devar', 'full', 'video', 'HD', 'blue', 'film', '|', 'sex', 'xxx', '|', 'fliz', 'movie', 'Hindi', 'Hot', 'sexy', 'Bhabhi', 'devar', 'full', 'video', 'HD', 'blue', 'film', '|', 'sex', 'xxx', '|', 'fliz', 'movie', '#666', 'Hindi', 'Hot', 'sexy', 'Bhabhi', 'devar', 'full', 'video', 'HD', 'blue', 'film', '|', 'sex', 'xxx', '|', 'fliz', 'movie', 'à¤œà¤µà¤¾à¤¨', 'à¤\\xadà¤¾à¤\\xadà¥€', 'à¤¸à¥‡', 'à¤ªà¥à¤¯à¤¾à¤°', '|', 'Sage', 'Bhai', 'Ki', 'Biwi', 'Se', 'Pyaar', '|', 'Devar', 'Bhabhi', 'Ka', 'Pyaar', '|', 'True', 'Romantic', 'Love', 'Story', 'à¤¦à¥‡à¤µà¤°', 'à¤¨à¥‡', 'à¤…à¤ªà¤¨à¥€', 'HOt', 'à¤\\xadà¤¾à¤\\xadà¥€', 'à¤•à¥‡', 'à¤¸à¤¾à¤¥', 'à¤•à¤¿à¤¯à¤¾', 'à¤°à¥‹à¤®à¤¾à¤‚à¤¸', '|', 'Devar', 'bhabhi', 'ki', 'hot', 'love', 'story', '|', 'New', 'hot', 'sexy', 'Love', 'Story', 'à¤¦à¥‡à¤µà¤°', 'à¤•à¤¾', 'à¤¦à¥‹à¤¸à¥à¤¤', 'à¤”à¤°', 'à¤\\xadà¤¾à¤\\xadà¥€', 'à¤•à¤¿à¤šà¤¨', 'à¤®à¥‡à¤‚', '-', 'Devar', 'Ka', 'Friend', 'Aur', 'Bhabhi', '-', 'Digital', 'Show', 'à¤¦à¥‡à¤µà¤°', 'à¤\\xadà¤¾à¤¬à¥€', 'à¤•à¥‡', 'à¤¸à¤¾à¤¥', 'Devar', 'Bhabhi', 'Ke', 'Sath', 'Hot', 'Romance', 'Bohat', 'Bura', 'Hoya', '2017', 'à¤\\xadà¤¾à¤\\xadà¥€', 'à¤•à¥€', 'à¤à¤•', 'à¤°à¤¾à¤¤', 'à¤¦à¥‡à¤µà¤°', 'à¤œà¥€', 'à¤•à¥‡', 'à¤¸à¤¾à¤¥', '!', 'Young', 'Devar', 'Ne', 'Jawan', 'Bhabhi', 'Ko', 'Pataya', '-', 'Mast', 'LOVE', 'story', 'à¤¦à¥‡à¤µà¤°', 'à¤\\xadà¤¾à¤\\xadà¥€', 'à¤•à¤¾', 'à¤ªà¥à¤¯à¤¾à¤°', '|', 'Part', '1', '|', 'Devar', 'Bhabhi', 'Ka', 'Pyar', '|', 'Devar', 'Bhabhi', 'Ka', 'love', 'story', '|Romantic', 'story2020', 'New', 'B', 'Grade', 'movie', '|', 'Devar', 'Bhabhi', 'hot', 'video', 'à¤¦à¥‡à¤µà¤°', 'à¤\\xadà¤¾à¤\\xadà¥€', 'à¤•à¤¾', 'à¤ªà¥à¤¯à¤¾à¤°', '|', 'à¤œà¤µà¤¾à¤‚', 'à¤\\xadà¤¾à¤\\xadà¥€', 'à¤ªà¥à¤¯à¤¾à¤¸', '|', 'Bhabhi', 'Devar', 'ka', 'pyar', '|', 'à¤¬à¤¹à¥‚', 'à¤¨à¥‡', 'à¤¸à¤¸à¥à¤°', 'à¤•à¥€', 'à¤¹à¤µà¤¸', 'à¤ªà¥‚à¤°à¥€', 'à¤•à¥€', 'Devar', 'bhabhi', 'hot', 'sexy', 'romance', 'full', 'hd', 'hindi', 'audio', 'sex', 'video', 'à¤¦à¥‡à¤µà¤°', 'à¤\\xadà¤¾à¤\\xadà¥€', 'à¤”à¤°', 'à¤\\xadà¤¾à¤ˆ', '-', 'Devar', 'Bhabhi', 'or', 'Bhai', '||Banwari', 'Lal', '||', 'Banwari', 'Lal', 'Ki', 'Comedy', 'Hindi', 'Hot', 'sexy', 'Bhabhi', 'devar', 'full', 'video', 'HD', 'blue', 'film', '|', 'sex', 'xxx', '|', 'fliz', 'movie', 'à¤¦à¥‡à¤µà¤°', 'à¤\\xadà¤¾à¤\\xadà¥€', 'à¤•à¤¾', 'à¤ªà¥à¤¯à¤¾à¤°', '|', 'New', 'Bhojpuri', 'Short', 'Film', '|', 'Devar', 'Bhabhi', 'Ka', 'love', 'story', '|', 'Romantic', 'story2020', 'Didi', 'Tera', 'Devar', 'Deewana', '-', 'Hum', 'Aapke', 'Hain', 'Koun', '-', 'Lata', 'Mangeshkar', '&', 'S.', 'P.', \"Balasubramaniam's\", 'Hit', 'Song', 'Devar', 'Bhabhi', 'Sex', 'Romance', 'Part', '4', 'Hot', 'Bhabhi', 'Sex', 'Sex', 'Video', 'Porn', 'Sexy', 'Blue', 'Film', 'Sexy', 'Bhabhi', 'Lesbian', 'SU', 'bhabhi', 'ki', 'chudai(use', 'earphones', 'ðŸ˜‹)dever', 'ne', 'bhabhi', 'ko', 'choda|sexy', 'bhabhichudai|hot', 'bhabhi', 'ki', 'chudaiðŸŒ¶', 'Devar', 'bhabhi', 'ki', 'Sexy', 'Web', 'Series', 'hot', 'scene', '|', 'Kavita', 'Bhabhi', 'Xxx', 'Hot', 'Ullu', 'Web-Series', 'all', 'episode', 'Devar', 'bhabhi', 'ki', 'hot', 'Sexy', 'Web', 'Series', 'hot', 'scene', '|', 'Kavita', 'Bhabhi', 'Hot', 'Sexy', 'Ullu', 'Web-Series', 'all', 'episode', 'Desi', 'mms', 'viral', 'Indian', 'leaked', 'mms', 'hot', 'video', '\"à¤«à¤¼à¤¿à¤²à¥à¤®à¥€', 'à¤¹à¥€à¤°à¥‹à¤‡à¤¨à¥‹à¤‚', 'à¤•à¥‡', 'à¤—à¤‚à¤¦à¥‡', 'MMS,', 'à¤¬à¥à¤°à¥€', 'à¤¤à¤°à¤¹', 'à¤µà¤¾à¤¯à¤°à¤²', 'Bollywood', 'Actresses', 'Controversial', 'Videos\"', 'Hot', 'MMS', 'Leaks', 'Video', 'From', 'My', 'Phone', 'Watch', 'This', 'Hot', 'Desi', 'Indian', 'girls', 'desi', 'MMS', 'leaked', 'from', 'phone', 'Girls', 'Hostel', 'Leaked', 'Scandel', '|', 'University', 'of', 'the', 'Punjab', '|', 'Leaked', 'Video', '|', 'MMS', 'Punjab', 'University', '2016', 'Mahesh', 'bhatt', 'and', 'Rhea', 'Chakraborty', 'viral', 'mms', 'leaked', 'video', '|', 'Mahesh', 'and', 'Rhea', 'Chakraborty', 'private', 'video', '10', 'Ten', 'indian', 'acctress', 'who', 'mms', 'was', 'leaked//sonakshi', 'sinha//malika', 'sherawat', 'MMS', 'Leaked', 'Video', 'Nisha', 'Guragain', '|', 'TikTok', 'Star', 'Nisha', 'Guragain', 'Viral', 'Video', 'Sach', '|', 'DCEntertainment', 'Tik', 'Tok', 'star', 'ðŸŒŸ', 'Namrata', 'parija', 'mms', 'leaked', 'reality', 'full', 'viral', 'video', 'Desi', 'Hot', 'Mms', 'Leaked', 'à¤\\xadà¤¾à¤\\xadà¥€', 'à¤”à¤°', 'à¤¦à¥‡à¤µà¤°', 'à¤•à¤¾', 'à¤µà¤¾à¤¯à¤°à¤²', 'à¤µà¤¿à¤¡à¤¿à¤¯à¥‹', 'à¤²à¤¿à¤•à¥¤à¥¤', 'hot', 'devar', 'bhabhai', 'leaked', 'mms', 'only', 'for', '18+', 'Sex', 'Chat', 'With', 'Friend', 'At', 'Late', 'Night', 'Hot', 'MMS', 'Leaked', 'Video', 'From', 'My', 'Phone', 'Top', '10', 'Shocking', 'CCTV', 'Videos', 'That', 'Went', 'Viral', '2017', 'Tik', 'Tok', 'star', 'ðŸŒŸ', 'Namrata', 'parija', 'mms', 'leaked', 'reality', 'full', 'viral', 'video', 'Tik', 'Tok', 'star', 'ðŸŒŸ', 'Namrata', 'parija', 'mms', 'leaked', 'reality', 'full', 'viral', 'video', 'download', 'link', '10', 'Bollywood', 'Actress', 'Invovled', 'In', 'MMS', 'Scandal', '//', '10', 'à¤…à¤\\xadà¤¿à¤¨à¥‡à¤¤à¥à¤°à¤¿à¤¯à¤¾à¤‚', 'à¤œà¥‹', 'à¤«à¤‚à¤¸', 'à¤šà¥à¤•à¥€', 'à¤¹à¥ˆ', 'MMS', 'à¤¸à¥à¤•à¥ˆà¤‚à¤¡à¤²', 'à¤®à¥‡à¤‚', 'Nisha', 'guragain', 'viral', 'video', 'MMS', 'leak', 'Shraddha', 'kapoor', 'viral', 'video!!', 'Shradha', 'kapoor', 'MMS', 'leaks', '!!', 'Shraddha', 'kapoor', 'MMS', 'viral', 'video!!', 'New', 'mms', '2020', '|', 'Leaked', 'Mms', 'New', '2020||', 'ðŸ‘‰Subscribe', 'Kar', 'Do', 'PleaseðŸ”¥', 'Leaked', 'MMS', 'of', 'Cute', 'Pakistani', 'Girl', 'Video', 'new', 'porn', 'video', '2020', 'hot', 'sexy', '\"SEX', 'VIDEO', ',', 'NEW', 'LESBIAN', 'XXX', 'PORN', 'VIDEO', '2020\"', 'Porn', '|', 'Stand-Up', 'Comedy', 'by', 'Abhishek', 'Upmanyu', 'Milf', 'Porn', 'Stars', '|', 'Top', '10', 'ranked', '2019', '\"SEX', 'VIDEO', ',NEW', 'XXX', 'VIDEO', 'PORN', 'VIDEO', '2020\"', 'Devar', 'Bhabhi', 'Sex', 'Romance', 'Part', '3', 'Hot', 'Bhabhi', 'Sex', 'Sex', 'Video', 'Porn', 'Sexy', 'Blue', 'Film', 'Sexy', 'Bhabhi', 'Lesbian', 'SU', 'Romance', 'Hot', 'Dewar', 'bhabhi', 'ka', 'Romantic', 'Porn', 'Videos', 'Hot', 'Sex', 'porn', 'most', 'chodai', 'Videoss.....', \"We're\", 'Practicing', 'For', 'Porn!', '|', 'Jerry', 'Springer', 'FOOD', 'PORN', 'DIARIES', 'WITH', 'SREE', 'SONIC', '|', 'KG', 'Korean', 'Charcoal', 'BBQ', '@', 'Da', 'Men', 'Mall', '|', 'Priyanka', 'chopra', 'Hot', 'Porn', 'Sex', '||', '18+', 'Indian', 'Actress', 'Love', 'Awkward', 'Conversations', 'With', 'Girlfriend', '|', 'E01:', 'Porn', '|', 'TSP', 'Originals', 'MIA', 'KHALIFA', 'PORN', 'STAR', 'BIG', 'SHOT', 'Porn', 'show', ':', 'MOM', 'FUCK', 'WTH', 'SON', 'FRIENDS', 'HD', 'PORN', 'BIG', 'ASS', 'A', 'Porn', 'Star', 'is', 'Born', '-', 'Free', 'Full', 'Movie', 'HotðŸ”¥ðŸ”¥', 'RomanceðŸ’‹.', 'PornðŸ‘‰ðŸ¤ž', 'chatðŸ’Œ', 'withðŸ‘‰', 'GFðŸ‘©â€ðŸ’¼.', '||', 'RomanticðŸ˜', 'PornðŸ‘‰ðŸ¤ž', 'chatðŸ’Œ.||', 'Challenging', 'Girls', 'To', 'Kiss', 'Me', 'ðŸ’‹ðŸ’‹ðŸ’‹ðŸ’‹ðŸ’‹ðŸ’‹ðŸ’‹ðŸ’‹ðŸ’‹ðŸ’‹ðŸ’‹(', 'PORN', ')', 'Reaction', '|', 'Porn', '|', 'Stand-Up', 'Comedy', 'by', 'Abhishek', 'Upmanyu', '|', 'Praveshika', 'Watch', 'porn', 'XXX', 'film:', 'Sex', 'with', 'students', '+18', 'Devar', 'Bhabhi', 'Sex', 'Romance', 'Part', '4', 'Hot', 'Bhabhi', 'Sex', 'Sex', 'Video', 'Porn', 'Sexy', 'Blue', 'Film', 'Sexy', 'Bhabhi', 'Lesbian', 'SU', '\"Top', '5', 'hot', 'Porn', 'Sex', 'scenes', 'of', 'Bollywood', 'movie', '||', ',Best', 'Bollywood', 'Hot', 'Kissing', 'scenes', '2019\"', 'Adith', '&', 'Supriya', 'Full', 'Romance', 'Video', '|', 'First', 'Love', 'Movie', 'Scene', '|', 'Short', 'Video', '-2020', 'son', 'romance', 'with', 'hot', 'mom', '|romantic', 'sexy', 'video|720p', 'hot', 'videos', 'ðŸ’–', 'Newly', 'Married', 'Couple', '|', 'Husband', 'wife', 'Romance', 'WhatsApp', 'Status', 'Video', 'ðŸ’–ðŸ’–', 'Romance', 'in', 'the', 'Lift', '-', 'Thiru', '&', 'Anandhi', '|', 'Best', 'of', 'Naayagi', 'ðŸ’', 'New', 'WhatsApp', 'Status', 'Video', 'Song', '2020', 'ðŸ’|', 'Romance', '|ðŸ’', 'Romantic', 'Love', 'Kiss', '|', 'Hot', 'Status', '|', 'Kiss', 'Status', 'AFTER', '2', 'Trailer', '2', '(2020)', 'Romance', 'Movie', 'HD', 'Top', '10', 'Best', 'of', 'Bad', 'Romance', 'covers', '-', 'TikTok', 'Prisoner', 'thanks', 'her', 'kidnapper', 'for', 'helping', 'her', 'father', '|', 'Romance', '|', 'Beauty', 'And', 'The', 'Beast', 'best', 'romance', 'with', 'paper', 'proof', 'in', 'train', '||', 'love', 'per', 'square', 'feet', 'Anu', 'Emmanuel', '-', 'Full', 'Romance', 'Liplock', 'Scene', '|', 'Hindi', 'Movies', 'Love', 'Scenes', '|', 'Short', 'Video', '2020', '||', 'MF', 'The', 'Partridge', \"Family's\", 'Taboo', 'On-Set', 'Romance', '(&', 'Other', 'Facts)', 'AFTER', '2', 'Trailer', '#', '2', '(NEW', '2020)', 'Romance', 'Movie', 'Mallory', 'Must', 'Not', 'Die!', '|', 'WESTERN', '|', 'Action', 'Movie', '|', 'Romance', '|', 'Classic', 'Movie', '|', 'Cowboy', 'Film', 'A', 'brutal', 'end', 'to', 'romance', '-', 'Episode', '571', '-', 'Qubool', 'Hai', 'Kaisi', 'yeh', 'yaariyan.', '...new', 'year', 'specialðŸ˜ðŸ”¥.', '...romance', '#manan', '#pani', 'NEW', 'Romance', 'Hallmark', 'Movies', '2020', '-', 'Love', 'Remains', 'Couple', 'Romance', 'ðŸ’‘ðŸ’žLove', 'Goals', '||', 'Latest', 'Video', '2020', 'GfðŸ¥°â¤ï¸Bf', 'Love', 'Mix', 'Videos', '||', 'Couple', 'Romantic', 'Videos..', 'Romance', 'Hallmark', 'Movies', '2020', '-', 'Now', 'Still', 'Here', 'MAD', 'OH', 'ðŸ˜±', 'S*X', 'POSITION', '|', 'ROMANCE', '|', 'FIGHTS', '&', 'MORE', 'BBNAIJA', '#bbnaijalockdown', 'Raghav', 'juyal', 'comedy', 'raghav', 'romance', 'with', 'shakti', 'raghav', 'comedy', 'jokes', 'raghav', 'and', 'ridhima', 'comedy', 'Bhabi', 'ki', 'full', 'chudai', 'full', 'xxx', 'sex', 'fuck', 'beautiful', 'baby', 'Best', 'fuck', 'sexy', 'hot', 'video', 'Stepsisters', 'fuck', 'old', 'brother', '-', 'Sis', 'love', 'me', '||', 'Pornhub', '\"Post', 'Malone', '-', '\"\"Goodbyes\"\"', 'ft.', 'Young', 'Thug', '(Rated', 'R)\"', 'School', 'Sex', 'Boy', 'nd', 'Girl', 'Love', 'story', '||', 'School', 'Love', 'Story', '||', 'Reena', 'Thakur', 'Bathroom', 'video', 'viral', 'Aeroplane', 'fuck', 'Shoreline', 'Mafia', '-', 'Fuck', 'It', 'Up', '(feat.', 'Mike', 'Sherm)', '[Official', 'Audio]', '\"Kamaiyah', '-', '\"\"Fuck', 'It', 'Up\"\"', 'ft.', 'YG', '(Official', 'Music', 'Video)\"', 'Big', 'Sean', '-', 'I', \"Don't\", 'Fuck', 'With', 'You', 'ft.', 'E-40', '(Official', '\"hot', 'bhabhi', 'and', 'devar', 'sex', '|', 'hot', 'fuck', 'hard', '|', 'hot', 'and', 'sexy', '|', 'nude,porn\"', 'Ylvis', '-', 'The', 'Fox', '(What', 'Does', 'The', 'Fox', 'Say?)', '[Official', 'music', 'video', 'HD]', '\"Fuck,', 'Marry,', 'Kill:', 'The', 'Game', 'Show', '(NSFW)', '-', '{The', 'Kloons}\"', 'YUNGBLUD', '-', 'Parents', '(Official', 'Music', 'Video)', 'Fuck', 'Twinkie', 'and', 'his', 'shitty', 'ass', 'paint', 'jobs!!!', 'Worst', 'painter', 'in', 'Northern', 'California', 'Son', 'Fuck', 'STEP', 'MOM', 'Porn', 'Sexx', 'video', 'Xxx', 'sex', 'videos', 'fuck', 'video', '2020(360P)|', 'ðŸ˜', 'must', 'watch', 'Human', 'Reproduction', '|', 'How', 'a', 'baby', 'is', 'born', 'has', 'been', 'shown', 'easily', 'for', 'medical', 'students', 'and', 'children', 'Sex', 'in', 'Public', 'Prank', 'GONE', 'Wrong', 'New', 'boy', 'fucked', 'a', 'girl', 'hard', 'Wheeler', 'Walker', 'Jr.', '-', 'Fuck', 'You', 'Bitch']\n",
      "['Grimes', '&', 'i_o', '-', 'Violence', '(Official', 'Video)', 'Violence', 'Tamil', 'Full', 'Movie', '2020', '|', 'Mohanlal', '|', 'Honey', 'Rose', '|', 'New', 'Action', 'Romantic', 'Movie', '2020', '|', 'Full', 'HD', 'Shocking', 'Video', 'Highlights', 'Surge', 'In', 'Domestic', 'Violence', 'During', 'Lockdowns', \"'What\", 'I', \"See'\", '-', 'A', 'Domestic', 'Violence', 'Short', 'Film', 'Behind', 'Closed', 'Doors:', 'Domestic', 'Violence', 'in', 'Australia', '|', '101', 'East', 'Firas', 'Zahabi:', 'Some', 'People', 'Donâ€™t', 'Know', 'the', 'Reality', 'of', 'Violence', 'THEORY', '-', 'History', 'Of', 'Violence', '[OFFICIAL', 'VIDEO]', 'Friendship', 'is', 'Violence', 'How', 'a', 'Murder', 'Case', 'Brought', 'Domestic', 'Violence', 'to', 'Light', '|', 'The', 'New', 'Yorker', 'Break', 'the', 'cycle', 'of', 'family', 'violence', 'Domestic', 'Violence', '{try', 'not', 'to', 'remember}', 'Violence', 'erupts', 'at', 'anti-Muslim', 'rally', 'Portland', 'protests:', 'Demonstrations', 'against', 'police', 'violence', 'and', 'racial', 'inequality', 'resume', 'for', '66th', 'day', 'Grimes', '&', 'i_o', '-', 'Violence', 'The', 'Paradox', 'of', 'Violence', '|', 'Tim', 'Larkin', '|', 'TEDxGrandForks', 'TN', 'Domestic', 'Violence', 'PSA', '-', 'Hard', 'to', 'Watch', '\"After', 'nights', 'of', 'violence', 'in', 'Minneapolis,', 'locals', 'take', 'up', 'arms', 'to', 'defend', 'their', 'community\"', 'VIOLENCE!', 'When', 'bullying', 'turns', 'to', 'violence:', 'Do', 'schools', 'know', \"what's\", 'really', 'going', 'on?Â', '(Marketplace)', 'Violence', 'Against', 'Women', 'Throughout', 'The', 'Life', 'Cycle', 'VALORANT', '|', \"Riot's\", 'Biggest', 'Killjoy', 'Concern', '-', 'Dev', 'Talks', 'Abilities', 'Delhi', 'Riots', ':', 'BJP', 'à¤¨à¥‡à¤¤à¤¾à¤“à¤‚', 'à¤•à¥‡', \"'à¤†à¤ªà¤¤à¥à¤¤à¤¿à¤œà¤¨à¤•'\", 'à¤¬à¤¯à¤¾à¤¨', 'à¤ªà¤°', 'à¤•à¥à¤¯à¤¾', 'à¤¬à¥‹à¤²à¥‡', 'Mukhtar', 'Abbas', 'Naqvi?', '(BBC', 'Hindi)', 'Valorant:', 'Cypher', 'NERFS!', 'Riot', 'Responds', 'to', 'Hiko', '&', 'Killjoy', 'Sentinel', 'Meta!', 'Tahir', 'Hussain', 'à¤¨à¥‡', 'Police', 'à¤•à¥‡', 'à¤¸à¤¾à¤®à¤¨à¥‡', 'à¤•à¤¬à¥‚à¤²à¥€', 'Delhi', 'à¤¹à¤¿à¤‚à¤¸à¤¾', 'à¤•à¤¾', 'à¤®à¤¾à¤¸à¥à¤Ÿà¤°à¤®à¤¾à¤‡à¤‚à¤¡', 'à¤¹à¥‹à¤¨à¥‡', 'à¤•à¥€', 'à¤¬à¤¾à¤¤', '|', 'Delhi', 'Riots', 'Exclusive:', 'AAP', 'à¤•à¥‡', 'à¤¨à¤¿à¤²à¤‚à¤¬à¤¿à¤¤', 'à¤ªà¤¾à¤°à¥à¤·à¤¦', 'Tahir', 'Hussain', 'à¤•à¤¾', 'à¤•à¤¬à¥‚à¤²à¤¨à¤¾à¤®à¤¾', '|', 'Delhi', 'Riots', 'Delhi', 'riots:', 'City', 'tense', 'after', 'Hindu-Muslim', 'clashes', 'leave', '27', 'dead', '-', 'BBC', 'News', '\"NYC', 'stores', 'destroyed', 'by', 'looters,', 'riots', 'during', 'George', 'Floyd', 'protests\"', 'Seattle', 'police', 'release', 'body', 'camera', 'video', 'from', 'Saturdayâ€™s', \"'riot'\", 'on', 'Capitol', 'Hill', 'Trump', 'In', 'Texas:', 'Radical', 'Democrats', 'Want', 'To', \"'Incite\", \"Riots'\", '|', 'MTP', 'Daily', '|', 'MSNBC', '\"U.S.', 'cities', 'see', 'more', 'protests,', 'violent', 'unrest', 'over', 'George', \"Floyd's\", 'death\"', '\"Portland', 'protesters', 'barred', 'from', '\"\"public', 'gatherings\"\"', 'as', 'condition', 'for', 'jail', 'release\"', '\"Business', 'owner', 'on', 'riots', 'impact,', 'U.S.', 'renters', 'owe', '$21b', 'rent,', 'China', 'banks', 'cool', 'gold', 'rush', '|NTD', 'Business\"', 'Riot', 'at', 'Ware', 'State', 'Prison', 'Newark', 'residents', 'stop', 'agitators', 'from', 'rioting', 'amid', 'George', 'Floyd', 'protests', 'Racism', 'and', 'Riots', 'India:', \"Delhi's\", 'religion', 'riots', 'leave', '38', 'dead', 'Fulton', 'County', 'Commissioner', 'reacts', 'to', 'Atlanta', 'riots', 'Baltimore', 'riots:', 'how', 'peaceful', 'protests', 'turned', 'to', 'violence', 'Violent', 'riots', 'in', 'Baltimore', 'How', 'Riots', 'Built', 'America', 'Trafficking', 'Human', 'Trafficking', 'Short', 'Film', 'Inside', 'the', 'Nepalese', 'Human', 'Trafficking', 'Industry', 'Stolen', 'Innocence', \"India's\", 'Untold', 'Story', 'of', 'Human', 'Trafficking', '(Documentary)', 'Unseen', 'Battle', '|', 'Against', 'Human', 'Trafficking', '|', 'Dreamz', 'Unlimited', 'Crime', 'Patrol', '-', 'Trafficking', '-', 'Episode', '378', '-', '6th', 'June', '2014', 'ÎšÎ¬ÏÎ¼Î±', '|', 'Î£2', '|', 'Î•Ï€ÎµÎ¹ÏƒÏŒÎ´Î¹Î¿', '1', '|', 'Sex', 'Trafficking', 'Human', 'Trafficking', 'in', 'India', 'Sex', 'Trafficking:', 'Sex', 'Trade', 'in', 'Nepal', '|', 'Content', 'Warning', 'Human', 'Trafficking', '|', 'PART', '1', 'Human', 'Trafficking', 'Las', 'Vegas', 'One', 'Night', 'Bride....', 'documentry', 'movie', 'on', 'girls', 'trafficking', '\"SEX', 'TRAFFICKING', 'MOVIE', 'Cargo,', 'I', 'DO', 'NOT', 'OWN', 'THE', 'RIGHTS', 'TO', 'ANY', 'OF', 'THE', 'MOVIES', 'I', 'UPLOAD,\"', 'Special', 'Focus', 'On', 'Visakha', 'Srushti', 'Hospital', 'Child', 'Trafficking', 'Irregularities', '|', 'NTV', 'Human', 'Trafficking', '|', '2005', '|', 'PART', '2', '\"\"\"Rise\"\"', 'Human', 'Trafficking', 'Awareness', 'Music', 'Video\"', 'Human', 'Trafficking', '2005', 'full', 'movie', 'Human', 'trafficking', 'in', 'Libya', '|', 'DW', 'Documentary', 'Good', 'westernm', 'human', 'trafficking', 'The', 'Reality', 'of', 'Child', 'Trafficking', 'Rings', 'TOP', '10', 'NERF', 'GUNS', 'OF', '2020', 'Nerf', 'Guns', 'War', ':', 'Police', 'Men', 'Of', 'SEAL', 'TEAM', 'Special', 'Brave', 'Attack', 'Black', 'Leader', 'Dangerous', 'Criminal', 'Group', 'The', 'Ten', 'Most', 'Powerful', 'Machine', 'Guns', 'In', 'The', 'World!', 'Toy', 'Guns', 'and', 'Equipments', '-', 'M4', 'Rifle', '-', 'Desert', 'Eagle', '-', 'Different', 'Uzi', 'and', 'Scary', 'Mask', 'LTT', 'Nerf', 'War', ':', 'Squad', 'SEAL', 'X', 'Warriors', 'Nerf', 'Guns', 'Fight', 'Dr.Lee', 'Crazy', 'Gang', 'Destruction', 'Plan', 'Bathinda', '(The', 'City', 'Of', 'Guts', '&', 'Guns)', '|', 'Jaggi', 'Bathinde', 'wala', 'Ft', 'Afsana', 'Khan', '|', 'Latest', 'Punjabi', 'Songs', '2020', 'Incredible', 'Powerful', 'Gun', 'Making', 'Process', '-', 'Modern', 'Bullet', 'Production', 'Process', 'Factory', 'Machine', 'Technology', 'GoPro', 'Shooting', 'Guns', 'Compilation', 'Police', 'Arrive', 'When', 'I', 'Found', 'a', 'REAL', 'GUN!', '(Scuba', 'Diving)', 'Cowboy', 'Action', 'Guns', 'Guns', \"N'\", 'Roses', '-', 'Sweet', 'Child', \"O'\", 'Mine', '(Official', 'Music', 'Video)', 'NERF', 'GUN', 'SAUSAGE', 'BBQ', 'BATTLE', 'Shooting', 'Enemy', 'With', 'FLARE', 'GUN', '|', 'PUBG', 'MOBILE', 'NERF', 'GUN', 'WAR', '13', 'How', 'a', 'gun', '(Colt', 'M1911)', 'works!', '(Animation)', 'Nerf', 'Guns:', 'The', 'Best', 'Nerf', 'Gun', 'Arsenal', 'PUBG', 'Guns', 'In', 'Real', 'Life!', 'LTT', 'Nerf', 'War', ':', 'Squad', 'SEAL', 'X', 'Warriors', 'Nerf', 'Guns', 'Go', 'On', 'Holiday', 'Fight', 'Dr.Lee', 'Crazy', 'Bandits', 'Diamond', 'Guns', \"N'\", 'Roses', '-', 'November', 'Rain', 'NERF', 'GUN', 'CAR', 'RC', 'CONTROL', 'BATTLE', '4', '\"Complete', 'statement', 'from', 'Judge', 'Esther', 'Salas', 'after', 'son', 'killed,', 'husband', 'shot\"', 'Anti-violence', 'activists', 'speak', 'after', '9-year-old', 'killed', 'on', 'Near', 'North', 'Side', 'Plano', 'police', 'believe', 'this', 'woman', 'killed', 'was', 'randomly', 'attacked', 'and', 'killed', 'while', 'jogging', '\"Gunmen', 'storm', 'prison', 'in', \"Afghanistan's\", 'Jalalabad,', 'over', '20', 'killed\"', '\"2', 'teens', 'killed,', '1', 'injured', 'in', 'Port', 'St.', 'Lucie', 'crash\"', 'Community', 'gathers', 'to', 'remember', 'mother', 'of', '7', 'killed', 'in', 'Detroit', 'crash', '\"9-year-old', 'boy', 'was', 'playing', 'outside', 'before', 'he', 'was', 'shot,', 'killed', 'on', 'Near', 'North', 'Side\"', '\"Man', 'shot,', 'killed', 'Burger', 'King', 'worker', 'over', 'slow', 'order,', 'deputies', 'say\"', '\"Suspect', 'killed,', 'West', 'Jordan', 'police', 'officer', 'injured', 'in', 'shooting\"', 'Two', 'men', 'killed', 'in', 'small', 'plane', 'crash', 'near', 'Cedar', 'City', '\"Crane', 'collapses', 'in', 'Indian', 'shipyard,', 'at', 'least', '11', 'killed\"', '\"Reward', 'offered', 'after', '9-year-old', 'boy', 'shot,', 'killed', 'on', 'Near', 'North', 'Side', 'while', 'playing\"', '\"Chicago', 'police', 'provide', 'update', 'after', '9-year-old', 'boy', 'shot,', 'killed', 'on', 'Near', 'North', 'Side\"', '\"BCSO:', 'Man', 'killed,', '2', 'hospitalized', 'after', 'head-on', 'crash', 'on', 'far', 'South', 'Side\"', '33-year-old', 'woman', 'killed', 'in', 'crash', 'on', \"Detroit's\", 'east', 'side', '\"Pedestrian', 'struck,', 'killed', 'on', 'I-285', 'early', 'Sunday\"', 'Mother', 'Of', 'Man', 'Killed', 'In', 'Freeport', 'Boat', 'Accident', 'Speaks', 'To', 'CBS2', '\"Woman', 'Tells', '911', 'She', 'Shot,', 'Killed', 'Own', 'Boyfriend\"', 'Police', 'kill', 'man', 'wielding', 'machete', 'in', 'Hollywood', '\"3', 'Assam', 'Rifles', 'Jawans', 'Killed,', '5', 'Injured', 'In', 'Ambush', 'By', 'Militants', 'In', 'Manipur\"', 'Mortal', 'Kombat', 'X:', 'All', 'Brutalities', 'in', '1080p', '60fps', 'Raw:', 'Woman', 'alleges', 'police', 'brutality', 'during', 'wellness', 'check', '|', 'Vancouver', 'Sun', 'Brutality', '&', 'Injustice:', 'Two', 'Trials', 'in', 'a', 'Time', '[MTA', 'Documentary', 'Special]', 'MORTAL', 'KOMBAT', '11', '-', 'ALL', 'BRUTALITIES', '(192', 'Brutalities)', '@', '1080p', '(60á¶', 'áµ–Ë¢)', 'á´´á´°', 'âœ”', 'Brutality', '-', 'When', 'The', 'Sky', 'Turns', 'Black', '-', '1994', '(Full', 'Album)', 'Rhea', 'Ripley', '-', 'Brutality', '(Entrance', 'Theme)', 'feat.', 'Ash', 'Costello', 'Brutality', '-', 'Screams', 'Of', 'Anguish', '(Full', 'Album)', 'Extended', 'footage', 'of', 'Delhi', 'Police', 'brutality', 'in', 'Jamia', 'Library', '-', 'Maktoob', 'OpTic', 'India', 'vs', 'Team', 'Brutality', '-', 'TE', 'Gaming', 'Cup', 'MORTAL', 'KOMBAT', '11', '-', 'ALL', 'BRUTALITIES', '(203', 'Brutalities)', '@', '1080p', '(60á¶', 'áµ–Ë¢)', 'á´´á´°', 'âœ”', 'Brutality', '-', 'Sea', 'of', 'Ignorance', '(2016)(Full', 'Album)', 'Mortal', 'Kombat', 'X', 'All', 'Fatalities', 'Brutalities', 'X-Ray', '-', 'Klassic', 'Fatality', 'Secret', 'Brutality', 'UVA', 'Student', 'Attack', 'Prompts', 'Police', 'Brutality', 'Investigation', '190', 'clips', 'of', 'Police', 'Brutality', 'in', 'the', 'wake', 'of', 'George', \"Floyd's\", 'murder.', '\"POLICE', 'BRUTALITY', '-', 'Recording', 'The', 'Police', 'is', 'Dangerous,', 'but', 'Necessary!\"', '\"Police', 'Brutality', 'in', 'India', 'during', 'Lockdown', '|', 'à¤²à¥‰à¤•à¤¡à¤¾à¤‰à¤¨', 'à¤•à¥‡', 'à¤¦à¥Œà¤°à¤¾à¤¨', 'à¤ªà¥à¤²à¤¿à¤¸', 'à¤•à¥€', 'à¤¬à¤°à¥à¤¬à¤°à¤¤à¤¾', '|', 'Women,', 'Poor', 'Vendors\"', 'Mortal', 'Kombat', '11', 'Joker', 'Brutalities', '&', 'Fatalities', 'MK11', 'Joker', 'Brutality', '20', 'Minutes', 'of', 'Pure', 'Police', 'Brutality', '(Compilation', 'May', '30th', '2020)', 'Police', 'Brutality', 'Neck', 'restraints:', 'George', \"Floyd's\", 'death', 'points', 'to', 'recurring', 'pattern', 'in', 'police', 'brutality', 'Unwatchable', '-', 'Is', 'your', 'phone', 'rape', 'free?', 'Crime', 'Patrol', '-', 'Episode', '44', '-', 'Paromita', 'Rape', 'Case', 'A', 'Look', 'into', 'Date', 'Rape', '\"Crime', 'Patrol', 'Dial', '100', '-', 'à¤•à¥à¤°à¤¾à¤‡à¤®', 'à¤ªà¥‡à¤Ÿà¥à¤°à¥‹à¤²', '-', 'Ep', '426', '-Satara', 'Rape', 'Mystery,', 'Maharashtra', '-', '5th', 'Apr,', '2017\"', 'Onanay:', 'Gang', 'rape', '|', 'Episode', '53', '(with', 'English', 'subtitles)', 'Raping', 'girl', '(', 'when', 'a', 'girl', 'going', 'alone', 'on', 'road.', ')', '\"Crime', 'Patrol', 'Dial', '100', '-', 'à¤•à¥à¤°à¤¾à¤‡à¤®', 'à¤ªà¥‡à¤Ÿà¥à¤°à¥‹à¤²', '-Mumbai', 'Rape', 'Case-', 'Episode', '309', '-', '24th', 'November,', '2016\"', 'Rape', 'Victim', '(4K)', '|', 'Orignal', 'Film', '|', 'English', 'Subtitles', '|', 'A', 'Sukha', 'Singh', 'Bhullar', 'Film', '|', '88', 'Entertainments', '\"Crime', 'Patrol', 'Dial', '100', '-', 'à¤•à¥à¤°à¤¾à¤‡à¤®', 'à¤ªà¥‡à¤Ÿà¥à¤°à¥‹à¤²-Ep', '379-Kanpur', 'Rape', 'and', 'Murder', '(Uttar', 'Pradesh)', '-31st', 'Jan,', '2017\"', 'Maricel', 'recalls', \"'rape'\", 'incident', 'by', 'Dukot', 'Van', 'Gang', \"Zainab's\", 'last', 'moments', 'before', 'her', 'rape', 'and', 'murder', '-', 'BBC', 'News', 'Exclusive', 'Video', 'Crucial', 'To', 'Vanderbilt', 'Rape', 'Case', 'Gang-Rape', 'on', 'Delhi', 'Bus', '-', 'Sadhguru', 'Speaks', '(Part', '1)', 'Stop', 'rape', 'in', 'war!', 'Student', 'Convicted', 'of', 'Rape', 'Returns', 'to', 'Football', 'Team', '\"Shocking', ':', 'Drunk', 'Man', 'Rapes', 'Woman', 'On', 'Footpath,', 'Onlookers', 'Walk', 'By', 'In', 'Vishakhapatnam\"', 'Ipaglaban', 'Mo:', 'Alvin', 'takes', 'advantage', 'on', 'Marilyn', 'Crime', 'Patrol', '|', 'à¤°à¤¾à¤–', '|', 'Justice', 'For', 'Women', '\"Crime', 'Patrol', 'Dial', '100', '-', 'à¤•à¥à¤°à¤¾à¤‡à¤®', 'à¤ªà¥‡à¤Ÿà¥à¤°à¥‹à¤²', '-', 'Ep', '445', '-', 'Virar', 'Murder,', 'Maharashtra', '-20th', 'Apr,', '2017\"', \"Women's\", 'Self', 'Defense:', 'Level', '1', '-', 'Rape', 'Escape', 'What', 'is', 'Blood?', '|', 'RBC/WBC/PLATELETS', '-', 'Complete', 'Lecture', 'by:', 'Rista', 'Mam', 'I', 'Biology', 'for', 'SSC/CGL', 'Human', 'Blood', '|', 'RBC', '|', 'WBC', '|', 'Platelets', 'in', 'Hindi', 'BTS', '(ë°©íƒ„ì†Œë…„ë‹¨)', \"'í”¼\", 'ë•€', 'ëˆˆë¬¼', '(Blood', 'Sweat', '&', \"Tears)'\", 'Official', 'MV', '\"human', 'blood', '(à¤°à¤•à¥à¤¤', 'à¤ªà¤°à¤¿à¤¸à¤‚à¤šà¤°à¤£', 'à¤¤à¤‚à¤¤à¥à¤°)', '|', 'Gk', 'tricks', 'in', 'Hindi', '|', 'function', 'of', 'blood', '|', 'RBC,', 'WBC,', 'Plasma\"', 'JATT', 'DA', 'BLOOD', '|', 'MANKIRT', 'AULAKH', '|', 'OFFICIAL', 'VIDEO', '|', 'FEAT', 'PARMISH', 'VERMA', '|', 'NEW', 'SONG', '2016', '|', 'CROWN', 'RECORDS', 'Vlad', '&', \"Mom's\", 'birthday', 'surprises', 'and', 'sweets!', 'Taylor', 'Swift', '-', 'Bad', 'Blood', 'ft.', 'Kendrick', 'Lamar', 'Human', 'Blood', 'Video', '|', 'Blood', 'Components', '|', 'Blood', 'Cells', 'Human', 'Blood', 'vs.', 'Snake', 'Venom!', '\"\"\"', 'Blood', 'And', 'Bone', '\"\"', '-', 'Full', 'Movie\"', '\"Blood', '|', 'ë¸”ëŸ¬ë“œ', 'EP.1', '[SUB', ':', 'KOR,', 'ENG,', 'CHN,', 'MLY,', 'VIE,', 'IND]\"', 'Vlad', 'and', 'Niki', 'pretend', 'play', 'with', 'toy', 'microwave', 'Blood', '|', 'ë¸”ëŸ¬ë“œ', '[Trailer]', 'Music', 'for', 'a', 'Witcher', '-', 'Iron', 'and', 'Blood', 'Testing', 'if', 'Sharks', 'Can', 'Smell', 'a', 'Drop', 'of', 'Blood', 'Fake', 'Cuts', 'and', 'Lots', 'of', 'Fake', 'Blood', 'Anatomy', 'and', 'Physiology', 'of', 'Blood', '/', 'Anatomy', 'and', 'Physiology', 'Video', 'BLOOD', 'KISS', 'SCENE', 'DRAMA', 'KOREA', 'EP.', '16', 'Trashed', 'Official', 'Trailer', '#1', '(2012)', '-', 'Documentary', '-', 'HD', 'Movie', 'Black', 'Sabbath', '-', 'Trashed', '-', 'original', 'Video', 'Trashed', '(2009', 'Remaster)', 'Yxngxr1', '-', 'Trashed', 'House', 'Trashed', '(Trailer)', '-', 'Environmental', 'Documentary', 'Jeremy', 'Irons', 'Narrates', 'Trashed', '(film)', '-', '20', 'Minute', 'excerpt', '-', 'narrated', 'by', 'Jeremy', 'Irons', 'Trashed', '(2007)', 'Annoying', 'Orange:', 'Viral', 'Videos', 'Trashed!', '#1-6', '(#2', '&', '#4', 'Are', 'Missing)', 'TRASHED', '-', 'CHARLIE', 'SHEEN', '(Official', 'Video)', 'Annoying', 'Orange', '-', 'IT', 'Trailer', 'Trashed!!', 'Detective', 'Guesses', 'Who', 'Trashed', 'Her', 'Car', 'Skin', '-', 'Trashed', '\"CHILDREN', 'OF', 'BODOM', '-', 'Trashed,', 'Lost', '&', 'Strungout', '(OFFICIAL', 'MUSIC', 'VIDEO)\"', 'Rampage', 'Trailer', 'Trashed!', '[Annoying', 'Orange]', 'Annoying', 'Orange', '-', 'Fast', '&', 'Furious', '7', 'TRAILER', 'Trashed!!', 'Annoying', 'Orange', '-', 'GODZILLA:', 'King', 'of', 'the', 'Monsters', 'TRAILER', 'Trashed!!', 'TRASHED', '-', 'DISGUSTING', '(Official', 'Video)', 'SonicWhacker55', '-', 'The', 'SpongeBob', 'Movie:', 'Sponge', 'on', 'the', 'Run', 'TRAILER', 'Trashed!']\n",
      "1362\n",
      "[('Sex', 46), ('Bhabhi', 41), ('Hot', 38), ('Video', 38), ('video', 36), ('The', 28), ('full', 24), ('sex', 24), ('Hindi', 23), ('sexy', 23), ('HD', 22), ('movie', 22), ('devar', 19), ('film', 19), ('xxx', 19), ('Sexy', 19), ('Devar', 19), ('Romance', 19), ('hot', 18), ('blue', 17), ('fliz', 17), ('Nude', 17), ('killed', 17), ('Trafficking', 16), ('Trashed', 16), ('Film', 15), ('Human', 15), ('Violence', 15), ('Blood', 15), ('Kiss', 14), ('Porn', 14), ('Movie', 13), ('Brutality', 13), ('Official', 12), ('Love', 12), ('MMS', 12), ('Guns', 12), ('In', 11), ('Police', 11), ('To', 9), ('Romantic', 9), ('Full', 9), ('How', 9), ('Trailer', 9), ('bhabhi', 9), ('New', 9), ('mms', 9), ('viral', 9), ('Rape', 9), ('Blue', 8), ('And', 8), ('Indian', 8), ('Desi', 8), ('Best', 8), ('Of', 8), ('VIDEO', 8), ('Videos', 7), ('With', 7), ('Short', 7), ('leaked', 7), ('Leaked', 7), ('Fuck', 7), ('police', 7), ('Riots', 7), ('Delhi', 7), ('riots', 7), ('Crime', 7), ('Patrol', 7), ('Nerf', 7), ('Part', 6), ('Kissing', 6), ('kiss', 6), ('My', 6), ('ki', 6), ('romance', 6), ('PORN', 6), ('fuck', 6), ('Domestic', 6), ('Ep', 5), ('Top', 5), ('ft', 5), ('For', 5), ('Is', 5), ('India', 5), ('Ka', 5), ('love', 5), ('story', 5), ('NEW', 5), ('Episode', 5), ('Music', 5), ('violence', 5), ('protests', 5), ('George', 5), ('Documentary', 5), ('GUN', 5), ('shot', 5), ('Side', 5), ('crash', 5), ('Brutalities', 5), ('rape', 5), ('Annoying', 5), ('Orange', 5), ('Friend', 4), ('Prank', 4), ('Movies', 4), ('You', 4), ('Special', 4), ('Girl', 4), ('Rose', 4), ('OF', 4), ('trafficking', 4), ('SEX', 4), ('Her', 4), ('When', 4), ('Scene', 4), ('Shocking', 4), ('Story', 4), ('Bollywood', 4), ('Status', 4), ('boy', 4), ('Case', 4), ('NERF', 4), ('Near', 4), ('North', 4), ('Man', 4), ('Dial', 4), ('Adult', 3), ('Kavita', 3), ('Not', 3), ('ENG', 3), ('SUB', 3), ('First', 3), ('Me', 3), ('Phone', 3), ('It', 3), ('TikTok', 3), ('Hollywood', 3), ('English', 3), ('Your', 3), ('During', 3), ('House', 3), ('StandUp', 3), ('Yoga', 3), ('Show', 3), ('Photos', 3), ('News', 3), ('Comedy', 3), ('Lesbian', 3), ('SU', 3), ('Watch', 3), ('Rhea', 3), ('Nisha', 3), ('Viral', 3), ('Tik', 3), ('Tok', 3), ('star', 3), ('ðŸŒŸ', 3), ('Namrata', 3), ('parija', 3), ('reality', 3), ('kapoor', 3), ('porn', 3), ('XXX', 3), ('Couple', 3), ('Action', 3), ('comedy', 3), ('raghav', 3), ('What', 3), ('girl', 3), ('OFFICIAL', 3), ('Murder', 3), ('Women', 3), ('BBC', 3), ('City', 3), ('Floyds', 3), ('On', 3), ('Child', 3), ('War', 3), ('SEAL', 3), ('Black', 3), ('Gang', 3), ('Killed', 3), ('Woman', 3), ('Mortal', 3), ('Kombat', 3), ('brutality', 3), ('Album', 3), ('TRAILER', 3), ('Aunty', 2), ('indian', 2), ('Real', 2), ('Gold', 2), ('Digger', 2), ('Hard', 2), ('Kim', 2), ('birthday', 2), ('Okay', 2), ('Teen', 2), ('Challenge', 2), ('KISS', 2)]\n",
      "188\n"
     ]
    }
   ],
   "source": [
    "# turn a doc into clean tokens\n",
    "def clean_doc(doc):\n",
    "    # split into tokens by white space\n",
    "    tokens = doc.split()\n",
    "    print(tokens)\n",
    "    # remove punctuation from each token\n",
    "    table = str.maketrans('', '', punctuation)\n",
    "    tokens = [w.translate(table) for w in tokens]\n",
    "    # remove remaining tokens that are not alphabetic\n",
    "    tokens = [word for word in tokens if word.isalpha()]\n",
    "    # filter out stop words\n",
    "    stop_words = set(stopwords.words('english'))\n",
    "    tokens = [w for w in tokens if not w in stop_words]\n",
    "    # filter out short tokens\n",
    "    tokens = [word for word in tokens if len(word) > 1]\n",
    "    return tokens\n",
    "\n",
    "# load doc into memory\n",
    "def load_doc(filename):\n",
    "    # open the file as read only\n",
    "    file = open(filename, 'r',errors='ignore')\n",
    "    # read all text\n",
    "    text = file.read()\n",
    "    # close the file\n",
    "    file.close()\n",
    "    return text\n",
    "\n",
    "# load doc and add to vocab\n",
    "def add_doc_to_vocab(filename, vocab):\n",
    "    # load doc\n",
    "    doc = load_doc(filename)\n",
    "    # clean doc\n",
    "    tokens = clean_doc(doc)\n",
    "    # update counts\n",
    "    vocab.update(tokens)\n",
    "    \n",
    "    \n",
    "def save_list(lines, filename):\n",
    "    data = '\\n'.join(lines)\n",
    "    file = open(filename, 'w')\n",
    "    file.write(data)\n",
    "    file.close()\n",
    "\n",
    "# define vocab\n",
    "vocab = Counter()\n",
    "\n",
    "# add all docs to vocab\n",
    "add_doc_to_vocab('adult.csv', vocab)\n",
    "add_doc_to_vocab('violence.csv', vocab)\n",
    "\n",
    "# print the size of the vocab\n",
    "print(len(vocab))\n",
    "\n",
    "# print the top words in the vocab\n",
    "print(vocab.most_common(200))\n",
    "\n",
    "min_occurance = 3\n",
    "tokens = [k for k,c in vocab.items() if c >= min_occurance]\n",
    "print(len(tokens))\n",
    "\n",
    "# save tokens to a vocabulary file\n",
    "save_list(tokens, 'vocab.txt')"
   ]
  },
  {
   "cell_type": "markdown",
   "metadata": {},
   "source": [
    "# Convert entire data into data ready to feed to model"
   ]
  },
  {
   "cell_type": "code",
   "execution_count": 8,
   "metadata": {},
   "outputs": [
    {
     "name": "stdout",
     "output_type": "stream",
     "text": [
      "177\n",
      "176\n"
     ]
    }
   ],
   "source": [
    "\n",
    "# load doc into memory\n",
    "def load_doc(filename):\n",
    "    # open the file as read only\n",
    "    file = open(filename, 'r',errors='ignore')\n",
    "    # read all text\n",
    "    text = file.read()\n",
    "    # close the file\n",
    "    file.close()\n",
    "    return text\n",
    "\n",
    "# load doc, clean and return line of tokens\n",
    "# turn a doc into clean tokens\n",
    "def clean_doc(doc):\n",
    "    # split into tokens by white space\n",
    "    rtr = []\n",
    "    split_text = doc.split(sep='\\n')\n",
    "    for tokens in split_text:\n",
    "        tokens = tokens.split()\n",
    "        # remove punctuation from each token\n",
    "        table = str.maketrans('', '', punctuation)\n",
    "        tokens = [w.translate(table) for w in tokens]\n",
    "        # remove remaining tokens that are not alphabetic\n",
    "        tokens = [word for word in tokens if word.isalpha()]\n",
    "        # filter out stop words\n",
    "        stop_words = set(stopwords.words('english'))\n",
    "        tokens = [w for w in tokens if not w in stop_words]\n",
    "        # filter out short tokens\n",
    "        tokens = [word for word in tokens if len(word) > 1]\n",
    "        if len(tokens) > 0:\n",
    "            rtr.append(tokens)\n",
    "    return rtr\n",
    "\n",
    "def save_list(lines, filename):\n",
    "    #data = '\\n'.join(lines)\n",
    "    file = open(filename, 'a')\n",
    "    for line in lines:\n",
    "        if len(line) >=1 :\n",
    "            file.write(line)\n",
    "            file.write('\\n')\n",
    "    file.close()\n",
    "    \n",
    "    \n",
    "def doc_to_line(filename, vocab):\n",
    "    # load the doc\n",
    "    doc = load_doc(filename)\n",
    "    final = []\n",
    "    # clean doc\n",
    "    tokens = clean_doc(doc)\n",
    "    print(len(tokens))\n",
    "    # filter by vocab\n",
    "    for i in range (len(tokens)):\n",
    "        t = [w for w in tokens[i] if w in vocab]\n",
    "        final.append(' '.join(t))\n",
    "    return final\n",
    "         \n",
    "# load all docs in a directory\n",
    "def process_docs(file_name, vocab):\n",
    "    \n",
    "    line = doc_to_line(file_name, vocab)\n",
    "    # add to list\n",
    "    return line\n",
    " \n",
    "# load vocabulary\n",
    "vocab_filename = 'vocab.txt'\n",
    "vocab = load_doc(vocab_filename)\n",
    "vocab = vocab.split()\n",
    "vocab = set(vocab)\n",
    "# prepare negative reviews\n",
    "adult_lines = process_docs('adult.csv', vocab)\n",
    "save_list(adult_lines, 'adult.txt')\n",
    "# prepare positive reviews\n",
    "violence_lines = process_docs('violence.csv', vocab)\n",
    "save_list(violence_lines, 'violence.txt')"
   ]
  },
  {
   "cell_type": "code",
   "execution_count": null,
   "metadata": {},
   "outputs": [],
   "source": []
  }
 ],
 "metadata": {
  "kernelspec": {
   "display_name": "Python 3",
   "language": "python",
   "name": "python3"
  },
  "language_info": {
   "codemirror_mode": {
    "name": "ipython",
    "version": 3
   },
   "file_extension": ".py",
   "mimetype": "text/x-python",
   "name": "python",
   "nbconvert_exporter": "python",
   "pygments_lexer": "ipython3",
   "version": "3.7.7"
  }
 },
 "nbformat": 4,
 "nbformat_minor": 2
}
