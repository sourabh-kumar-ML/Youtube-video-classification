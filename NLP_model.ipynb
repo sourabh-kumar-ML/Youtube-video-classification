{
 "cells": [
  {
   "cell_type": "code",
   "execution_count": 15,
   "metadata": {},
   "outputs": [],
   "source": [
    "import numpy as np\n",
    "import pandas as pd\n",
    "from sklearn.utils import shuffle\n",
    "from sklearn.model_selection import train_test_split\n",
    "from keras.preprocessing.text import Tokenizer\n",
    "from keras.preprocessing.sequence import pad_sequences\n",
    "from keras.models import Sequential\n",
    "from keras.layers import Dense\n",
    "from keras.layers import Flatten\n",
    "from keras.layers import Embedding\n",
    "from keras.layers.convolutional import Conv1D\n",
    "from keras.layers.convolutional import MaxPooling1D"
   ]
  },
  {
   "cell_type": "code",
   "execution_count": 16,
   "metadata": {},
   "outputs": [],
   "source": [
    "file = open('adult.txt', 'r',errors='ignore')\n",
    "# read all text\n",
    "adult = file.read()\n",
    "file = open('violence.txt', 'r',errors='ignore')\n",
    "violence = file.read()"
   ]
  },
  {
   "cell_type": "code",
   "execution_count": 17,
   "metadata": {},
   "outputs": [],
   "source": [
    "adult = adult.split('\\n')\n",
    "violence = violence.split('\\n')"
   ]
  },
  {
   "cell_type": "code",
   "execution_count": 18,
   "metadata": {},
   "outputs": [],
   "source": [
    "data = adult+violence"
   ]
  },
  {
   "cell_type": "code",
   "execution_count": 19,
   "metadata": {},
   "outputs": [],
   "source": [
    "tokenizer = Tokenizer()"
   ]
  },
  {
   "cell_type": "code",
   "execution_count": 20,
   "metadata": {},
   "outputs": [],
   "source": [
    "tokenizer.fit_on_texts(data)"
   ]
  },
  {
   "cell_type": "code",
   "execution_count": 21,
   "metadata": {},
   "outputs": [],
   "source": [
    "encoded_docs = tokenizer.texts_to_sequences(data)"
   ]
  },
  {
   "cell_type": "code",
   "execution_count": 22,
   "metadata": {},
   "outputs": [],
   "source": [
    "max_length = max([len(s.split()) for s in data])"
   ]
  },
  {
   "cell_type": "code",
   "execution_count": 23,
   "metadata": {},
   "outputs": [],
   "source": [
    "data= pad_sequences(encoded_docs,maxlen= max_length,padding='post')"
   ]
  },
  {
   "cell_type": "code",
   "execution_count": 24,
   "metadata": {},
   "outputs": [],
   "source": [
    "labels = np.array([0 for _ in range(len(adult))] + [1 for _ in range(len(violence))])"
   ]
  },
  {
   "cell_type": "code",
   "execution_count": 25,
   "metadata": {},
   "outputs": [],
   "source": [
    "vocab_size = len(tokenizer.word_index)+1"
   ]
  },
  {
   "cell_type": "code",
   "execution_count": 26,
   "metadata": {},
   "outputs": [],
   "source": [
    "data,labels = shuffle(data,labels)"
   ]
  },
  {
   "cell_type": "code",
   "execution_count": 27,
   "metadata": {},
   "outputs": [],
   "source": [
    "X_train,X_test,Y_train,Y_test = train_test_split(data,labels,stratify=labels,random_state=42)"
   ]
  },
  {
   "cell_type": "code",
   "execution_count": 28,
   "metadata": {},
   "outputs": [
    {
     "name": "stdout",
     "output_type": "stream",
     "text": [
      "Model: \"sequential_2\"\n",
      "_________________________________________________________________\n",
      "Layer (type)                 Output Shape              Param #   \n",
      "=================================================================\n",
      "embedding_2 (Embedding)      (None, 18, 100)           15300     \n",
      "_________________________________________________________________\n",
      "conv1d_2 (Conv1D)            (None, 11, 32)            25632     \n",
      "_________________________________________________________________\n",
      "max_pooling1d_2 (MaxPooling1 (None, 5, 32)             0         \n",
      "_________________________________________________________________\n",
      "flatten_2 (Flatten)          (None, 160)               0         \n",
      "_________________________________________________________________\n",
      "dense_3 (Dense)              (None, 10)                1610      \n",
      "_________________________________________________________________\n",
      "dense_4 (Dense)              (None, 1)                 11        \n",
      "=================================================================\n",
      "Total params: 42,553\n",
      "Trainable params: 42,553\n",
      "Non-trainable params: 0\n",
      "_________________________________________________________________\n",
      "None\n",
      "Train on 380 samples, validate on 127 samples\n",
      "Epoch 1/25\n",
      "380/380 [==============================] - 1s 4ms/step - loss: 0.6037 - acc: 0.7211 - val_loss: 0.5348 - val_acc: 0.7795\n",
      "Epoch 2/25\n",
      "380/380 [==============================] - 1s 2ms/step - loss: 0.3678 - acc: 0.8474 - val_loss: 0.2004 - val_acc: 0.9291\n",
      "Epoch 3/25\n",
      "380/380 [==============================] - 1s 2ms/step - loss: 0.0889 - acc: 0.9763 - val_loss: 0.1261 - val_acc: 0.9685\n",
      "Epoch 4/25\n",
      "380/380 [==============================] - 1s 2ms/step - loss: 0.0499 - acc: 0.9895 - val_loss: 0.0929 - val_acc: 0.9685\n",
      "Epoch 5/25\n",
      "380/380 [==============================] - 1s 2ms/step - loss: 0.0421 - acc: 0.9868 - val_loss: 0.1055 - val_acc: 0.9685\n",
      "Epoch 6/25\n",
      "380/380 [==============================] - 1s 2ms/step - loss: 0.0348 - acc: 0.9947 - val_loss: 0.1264 - val_acc: 0.9685\n",
      "Epoch 7/25\n",
      "380/380 [==============================] - 1s 2ms/step - loss: 0.0264 - acc: 0.9921 - val_loss: 0.1030 - val_acc: 0.9764\n",
      "Epoch 8/25\n",
      "380/380 [==============================] - 1s 2ms/step - loss: 0.0224 - acc: 0.9921 - val_loss: 0.1001 - val_acc: 0.9606\n",
      "Epoch 9/25\n",
      "380/380 [==============================] - ETA: 0s - loss: 0.0173 - acc: 0.994 - 1s 2ms/step - loss: 0.0170 - acc: 0.9947 - val_loss: 0.1002 - val_acc: 0.9685\n",
      "Epoch 10/25\n",
      "380/380 [==============================] - 1s 2ms/step - loss: 0.0283 - acc: 0.9842 - val_loss: 0.1247 - val_acc: 0.9764\n",
      "Epoch 11/25\n",
      "380/380 [==============================] - 1s 2ms/step - loss: 0.0193 - acc: 0.9947 - val_loss: 0.1103 - val_acc: 0.9764\n",
      "Epoch 12/25\n",
      "380/380 [==============================] - 1s 2ms/step - loss: 0.0214 - acc: 0.9895 - val_loss: 0.1414 - val_acc: 0.9764\n",
      "Epoch 13/25\n",
      "380/380 [==============================] - 1s 2ms/step - loss: 0.0210 - acc: 0.9895 - val_loss: 0.1229 - val_acc: 0.9764\n",
      "Epoch 14/25\n",
      "380/380 [==============================] - 1s 2ms/step - loss: 0.0196 - acc: 0.9895 - val_loss: 0.1589 - val_acc: 0.9606\n",
      "Epoch 15/25\n",
      "380/380 [==============================] - 1s 2ms/step - loss: 0.0218 - acc: 0.9947 - val_loss: 0.1126 - val_acc: 0.9764\n",
      "Epoch 16/25\n",
      "380/380 [==============================] - 1s 2ms/step - loss: 0.0182 - acc: 0.9921 - val_loss: 0.1323 - val_acc: 0.9764\n",
      "Epoch 17/25\n",
      "380/380 [==============================] - 1s 2ms/step - loss: 0.0179 - acc: 0.9947 - val_loss: 0.1208 - val_acc: 0.9764\n",
      "Epoch 18/25\n",
      "380/380 [==============================] - 1s 2ms/step - loss: 0.0154 - acc: 0.9921 - val_loss: 0.1187 - val_acc: 0.9764\n",
      "Epoch 19/25\n",
      "380/380 [==============================] - 1s 2ms/step - loss: 0.0189 - acc: 0.9895 - val_loss: 0.1421 - val_acc: 0.9764\n",
      "Epoch 20/25\n",
      "380/380 [==============================] - 1s 2ms/step - loss: 0.0185 - acc: 0.9921 - val_loss: 0.1279 - val_acc: 0.9764\n",
      "Epoch 21/25\n",
      "380/380 [==============================] - 1s 2ms/step - loss: 0.0140 - acc: 0.9921 - val_loss: 0.1242 - val_acc: 0.9764\n",
      "Epoch 22/25\n",
      "380/380 [==============================] - 1s 2ms/step - loss: 0.0147 - acc: 0.9947 - val_loss: 0.1102 - val_acc: 0.9764\n",
      "Epoch 23/25\n",
      "380/380 [==============================] - 1s 2ms/step - loss: 0.0187 - acc: 0.9921 - val_loss: 0.1303 - val_acc: 0.9764\n",
      "Epoch 24/25\n",
      "380/380 [==============================] - 1s 2ms/step - loss: 0.0151 - acc: 0.9921 - val_loss: 0.1216 - val_acc: 0.9764\n",
      "Epoch 25/25\n",
      "380/380 [==============================] - 1s 2ms/step - loss: 0.0133 - acc: 0.9921 - val_loss: 0.1346 - val_acc: 0.9764\n"
     ]
    },
    {
     "data": {
      "text/plain": [
       "<keras.callbacks.History at 0x2510c446908>"
      ]
     },
     "execution_count": 28,
     "metadata": {},
     "output_type": "execute_result"
    }
   ],
   "source": [
    "model = Sequential()\n",
    "model.add(Embedding(vocab_size,100,input_length = max_length))\n",
    "model.add(Conv1D(filters=32,kernel_size=8,activation='relu'))\n",
    "model.add(MaxPooling1D(pool_size=2))\n",
    "model.add(Flatten())\n",
    "model.add(Dense(10,activation='relu'))\n",
    "model.add(Dense(1,activation='sigmoid'))\n",
    "print(model.summary(model.compile(loss='binary_crossentropy',optimizer='adam',metrics=['accuracy'])))\n",
    "model.fit(X_train,Y_train,epochs=25,verbose=1,validation_data = (X_test,Y_test),batch_size=4)"
   ]
  },
  {
   "cell_type": "code",
   "execution_count": null,
   "metadata": {},
   "outputs": [],
   "source": []
  }
 ],
 "metadata": {
  "kernelspec": {
   "display_name": "Python 3",
   "language": "python",
   "name": "python3"
  },
  "language_info": {
   "codemirror_mode": {
    "name": "ipython",
    "version": 3
   },
   "file_extension": ".py",
   "mimetype": "text/x-python",
   "name": "python",
   "nbconvert_exporter": "python",
   "pygments_lexer": "ipython3",
   "version": "3.7.3"
  }
 },
 "nbformat": 4,
 "nbformat_minor": 2
}
